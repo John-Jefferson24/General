{
 "cells": [
  {
   "cell_type": "code",
   "execution_count": null,
   "metadata": {},
   "outputs": [],
   "source": [
    "# THIS IS A READ-ONLY NOTEBOOK.\n",
    "# PLEASE MAKE YOUR OWN COPY BEFORE EDITING TO AVOID LOSS WORK."
   ]
  },
  {
   "cell_type": "code",
   "execution_count": null,
   "metadata": {},
   "outputs": [],
   "source": [
    "%matplotlib notebook\n",
    "%xmode minimal\n",
    "\n",
    "import snorkelflow.client as sf\n",
    "from snorkel.labeling.lf import labeling_function\n",
    "\n",
    "ctx = sf.SnorkelFlowContext.from_kwargs(\n",
    "    api_key=None,  # change this to your API key if you are superadmin and want to use its privileges\n",
    "    workspace_name=None,  # change this to work with a non-default workspace\n",
    ")"
   ]
  },
  {
   "cell_type": "code",
   "execution_count": null,
   "metadata": {},
   "outputs": [],
   "source": [
    "# Change this to the name of your current dataset\n",
    "DATASET_NAME = \"YOUR-DATASET-NAME-HERE\"\n",
    "# Change this to the name of your current application\n",
    "APP_NAME = \"YOUR-APP-NAME-HERE\"\n",
    "# Get the UID of the model node\n",
    "node = sf.get_model_node(APP_NAME)"
   ]
  }
 ],
 "metadata": {
  "file_extension": ".py",
  "kernelspec": {
   "display_name": "Python 3",
   "language": "python",
   "name": "python3"
  },
  "language_info": {
   "codemirror_mode": {
    "name": "ipython",
    "version": 3
   },
   "file_extension": ".py",
   "mimetype": "text/x-python",
   "name": "python",
   "nbconvert_exporter": "python",
   "pygments_lexer": "ipython3",
   "version": "3.8.0"
  },
  "mimetype": "text/x-python",
  "name": "python",
  "npconvert_exporter": "python",
  "pygments_lexer": "ipython3",
  "version": 3
 },
 "nbformat": 4,
 "nbformat_minor": 2
}
