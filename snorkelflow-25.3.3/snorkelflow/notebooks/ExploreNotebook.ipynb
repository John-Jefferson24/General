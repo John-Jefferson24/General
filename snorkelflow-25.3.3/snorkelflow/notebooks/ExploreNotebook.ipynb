{
 "cells": [
  {
   "cell_type": "code",
   "execution_count": null,
   "metadata": {},
   "outputs": [],
   "source": [
    "# THIS IS A READ-ONLY NOTEBOOK.\n",
    "# PLEASE MAKE YOUR OWN COPY BEFORE EDITING TO AVOID LOSS WORK."
   ]
  },
  {
   "cell_type": "markdown",
   "metadata": {},
   "source": [
    "## Setup"
   ]
  },
  {
   "cell_type": "code",
   "execution_count": null,
   "metadata": {},
   "outputs": [],
   "source": [
    "import snorkelflow.client as sf\n",
    "\n",
    "# Change this to the name of your current application\n",
    "APP_NAME = \"YOUR-APP-NAME-HERE\"\n",
    "ctx = sf.SnorkelFlowContext.from_kwargs()\n",
    "node = sf.get_model_node(APP_NAME)"
   ]
  },
  {
   "cell_type": "markdown",
   "metadata": {},
   "source": [
    "## Explore columns in your dataset\n",
    "\n",
    "Generate various summary statistics about the columns in your data. Can be used as a santity check.\n",
    "\n",
    "For more information about the function, check out the [documentation](https://edge.k8s.g498.io/user_guide/python_sdk/_autosummary/snorkelflow.studio.NodeDataset.html#snorkelflow.studio.NodeDataset.explore_column_summaries). "
   ]
  },
  {
   "cell_type": "code",
   "execution_count": null,
   "metadata": {},
   "outputs": [],
   "source": [
    "df = sf.get_dataset(node)\n",
    "df.describe(include=\"all\")"
   ]
  },
  {
   "cell_type": "markdown",
   "metadata": {},
   "source": [
    "##  Get high frequency keywords for a class (Text fields only)\n",
    "\n",
    "Generate a list of keywords that appear most frequently for a particular label class, relative to other classes. You can use these keywords to write Keyword LFs.\n",
    "\n",
    "For more information about this function, check out the [documentation](https://edge.k8s.g498.io/user_guide/python_sdk/_autosummary/snorkelflow.studio.NodeDataset.html#snorkelflow.studio.NodeDataset.explore_distinctive_keywords)."
   ]
  },
  {
   "cell_type": "code",
   "execution_count": null,
   "metadata": {},
   "outputs": [],
   "source": [
    "# Change this to the field to extract text from.\n",
    "TEXT_FIELD = \"text\"\n",
    "\n",
    "sf.plot_distinctive_keywords(node, field=TEXT_FIELD)"
   ]
  },
  {
   "cell_type": "markdown",
   "metadata": {},
   "source": [
    "# Create advanced plots"
   ]
  },
  {
   "cell_type": "markdown",
   "metadata": {},
   "source": [
    "Visit the [documentation](https://edge.k8s.g498.io/user_guide/python_sdk/_autosummary/snorkelflow.studio.NodeDataset.html#snorkelflow.studio.NodeDataset) to learn about more explore that you can create (including 2d/3d scatter plots, and histograms)."
   ]
  }
 ],
 "metadata": {
  "kernelspec": {
   "display_name": "Python 3",
   "language": "python",
   "name": "python3"
  },
  "language_info": {
   "codemirror_mode": {
    "name": "ipython",
    "version": 3
   },
   "file_extension": ".py",
   "mimetype": "text/x-python",
   "name": "python",
   "nbconvert_exporter": "python",
   "pygments_lexer": "ipython3",
   "version": "3.8.0"
  }
 },
 "nbformat": 4,
 "nbformat_minor": 4
}
